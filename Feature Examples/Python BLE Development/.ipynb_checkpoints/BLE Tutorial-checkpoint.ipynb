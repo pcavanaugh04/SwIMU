{
 "cells": [
  {
   "cell_type": "code",
   "execution_count": null,
   "id": "6a8b8050-6c92-4054-a224-65d4d7d0f93a",
   "metadata": {},
   "outputs": [],
   "source": [
    "from bleak import BleakScanner\n",
    "import asyncio\n",
    "\n",
    "async def main():\n",
    "    print(\"do we get here\")\n",
    "    devices = await BleakScanner.discover(5.0, return_adv=True)\n",
    "    for d in devices:\n",
    "        print(d)\n",
    "\n",
    "asyncio.run(main())\n",
    "print(\"TEst output??\""
   ]
  },
  {
   "cell_type": "code",
   "execution_count": null,
   "id": "c1fb892d-2fb9-4ec6-bbb9-baaf808629bd",
   "metadata": {},
   "outputs": [],
   "source": [
    "!pip uninstall bleak"
   ]
  },
  {
   "cell_type": "code",
   "execution_count": null,
   "id": "d5d16ef4-3805-4921-bde9-18e63be7c06c",
   "metadata": {},
   "outputs": [],
   "source": [
    "!pip install bleak"
   ]
  },
  {
   "cell_type": "code",
   "execution_count": null,
   "id": "7da56579-bc95-437f-a5e7-c66976df2ef1",
   "metadata": {},
   "outputs": [],
   "source": [
    "import bleak"
   ]
  },
  {
   "cell_type": "code",
   "execution_count": null,
   "id": "7d036d90-86a0-421d-bc28-690876cad10d",
   "metadata": {},
   "outputs": [],
   "source": [
    "print(\"test output\")"
   ]
  },
  {
   "cell_type": "code",
   "execution_count": null,
   "id": "a5cb4668-380f-4b58-8cb6-5297c7acb923",
   "metadata": {},
   "outputs": [],
   "source": []
  }
 ],
 "metadata": {
  "kernelspec": {
   "display_name": "Python 3 (ipykernel)",
   "language": "python",
   "name": "python3"
  },
  "language_info": {
   "codemirror_mode": {
    "name": "ipython",
    "version": 3
   },
   "file_extension": ".py",
   "mimetype": "text/x-python",
   "name": "python",
   "nbconvert_exporter": "python",
   "pygments_lexer": "ipython3",
   "version": "3.13.1"
  }
 },
 "nbformat": 4,
 "nbformat_minor": 5
}
